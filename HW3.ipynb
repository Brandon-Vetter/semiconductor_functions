{
 "cells": [
  {
   "cell_type": "markdown",
   "id": "d3f8a311",
   "metadata": {},
   "source": [
    "# HW3\n",
    "All functions are in a file called \"functions.py\" and will be included at the end.  I put them in their own file as I want to reuse the functions."
   ]
  },
  {
   "cell_type": "markdown",
   "id": "0b9616ab",
   "metadata": {},
   "source": [
    "# 5.4"
   ]
  },
  {
   "cell_type": "code",
   "execution_count": 27,
   "id": "c8acbe4b",
   "metadata": {},
   "outputs": [
    {
     "name": "stdout",
     "output_type": "stream",
     "text": [
      "bulk: 0.39862226384175575 eV\n",
      "Vfb = -0.9586222638417556  eV\n",
      "Part B\n",
      "Wdmax = 1.4418070748537598e-05 cm\n",
      "Part C\n",
      "Vt = -0.09445683411809569 eV\n",
      "Part D\n",
      "If the gate was a P polly instead of an N polly, then the surface potenial would be subtracted from gate as it would lower the fermi level vs adding to the fermi level.\n",
      "You also need to swap the gate work functions as psi_s will be 4.05 and psi_g will be Ec-Ef/q\n",
      "Vfb = 0.16137773615824447 eV\n",
      "Vth = 1.0255431658819045 eV\n"
     ]
    }
   ],
   "source": [
    "import numpy as np\n",
    "from functions import *\n",
    "\n",
    "Na =5E16\n",
    "Oa = 2E-9\n",
    "# as everything is in cn\n",
    "Oa *= 1E2\n",
    "# in 5.1 it looks like surface potentail is added\n",
    "Vfb = find_Vfb(Na=Na)\n",
    "print(f\"bulk: {bulk(Na)} eV\")\n",
    "print(f\"Vfb = {Vfb}  eV\")\n",
    "\n",
    "print(\"Part B\")\n",
    "Wdmax = find_Wdmax(Na)\n",
    "\n",
    "print(f\"Wdmax = {Wdmax} cm\")\n",
    "\n",
    "print(\"Part C\")\n",
    "\n",
    "print(f\"Vt = {find_Vt(Na, Oa)} eV\")\n",
    "\n",
    "print(f\"Part D\")\n",
    "\n",
    "print(\"If the gate was a P polly instead of an N polly, then the surface potenial would be subtracted from gate as it would lower the fermi level vs adding to the fermi level.\")\n",
    "print(\"You also need to swap the gate work functions as psi_s will be 4.05 and psi_g will be Ec-Ef/q\")\n",
    "\n",
    "print(f\"Vfb = {find_Vfb(Na, N_type=False)} eV\")\n",
    "print(f\"Vth = {find_Vt(Na, Oa, N_type=False)} eV\")\n",
    "\n"
   ]
  },
  {
   "cell_type": "markdown",
   "id": "a0acb256",
   "metadata": {},
   "source": [
    "# 5.5"
   ]
  },
  {
   "cell_type": "markdown",
   "id": "3211e4e6",
   "metadata": {},
   "source": [
    "## part a\n",
    "$\\frac{dQ}{dV} = C$\\\n",
    "\\\n",
    "$\\frac{4E-7}{1} = 4E-7F/cm$\n",
    "\n",
    "## part b\n",
    "$V_g = V_{fb} + \\phi_s + V_{OX}$ \\\n",
    "$V_g - V_{fb} = \\phi_s + V_{OX}$ \\\n",
    "$V_g - V_{fb} = \\phi_B + V_{OX}$ = 1 \\\n",
    "$\\phi_B$ and $V_{OX}$ bolth have a $N_i$ term and $\\phi_B$ is needed in $V_{OX}$ meaning this is a really hard problem to solve algebraicly.  The following is a program to solve this iterivily\n"
   ]
  },
  {
   "cell_type": "code",
   "execution_count": 37,
   "id": "ae4d771b",
   "metadata": {},
   "outputs": [
    {
     "name": "stdout",
     "output_type": "stream",
     "text": [
      "interation: 10000\n",
      "perror: 0.004327333629870811\n",
      "current value: 0.9956726663701292\n",
      "current Si doping 4.823479382820573e+16\n",
      "interation: 20000\n",
      "perror: 0.00016898064310022498\n",
      "current value: 0.9998310193568998\n",
      "current Si doping 4.9511880096141944e+16\n",
      "actual value: 0.9999000249097983\n",
      "Si doping 4.953325396729452e+16\n",
      "% error 9.997509020165385e-05\n"
     ]
    }
   ],
   "source": [
    "import numpy as np\n",
    "from functions import *\n",
    "\n",
    "start = 1E14\n",
    "dn = 1E14 # how much to increase/decrease doping by starting\n",
    "VgmVfb = 1\n",
    "Cox = 4E-7\n",
    "\n",
    "aerr = .0001\n",
    "cur_vgmvfb = 0\n",
    "perror = lambda E, A:(E - A)/A\n",
    "\n",
    "Na = start\n",
    "er = 1\n",
    "ind = 0\n",
    "print_num = 10000\n",
    "# not optimal but works\n",
    "while(np.abs(er) > aerr):\n",
    "    cur_vgmvfb = find_Vox(Na, c=Cox) + surf_pot_t(Na)\n",
    "    er = -perror(cur_vgmvfb, VgmVfb)\n",
    "    Na += dn*er\n",
    "    ind += 1\n",
    "    if ind%print_num == 0:\n",
    "        print(f\"interation: {ind}\")\n",
    "        print(f\"perror: {er}\")\n",
    "        print(f\"current value: {cur_vgmvfb}\")\n",
    "        print(f\"current Si doping {Na}\")\n",
    "\n",
    "print(f\"actual value: {cur_vgmvfb}\")\n",
    "print(f\"Si doping {Na}\")\n",
    "print(f\"% error {er}\")\n",
    "\n"
   ]
  },
  {
   "cell_type": "markdown",
   "id": "f12c63f3",
   "metadata": {},
   "source": [
    "so we have $N_a$ at \n",
    "$Na = 3E16cm^{-3}$\n",
    "## Part C\n",
    "$V_{OX} = -1 - \\phi_B$"
   ]
  },
  {
   "cell_type": "code",
   "execution_count": 29,
   "id": "13229559",
   "metadata": {},
   "outputs": [
    {
     "name": "stdout",
     "output_type": "stream",
     "text": [
      "Vox = -1.3967694402581787\n"
     ]
    }
   ],
   "source": [
    "Vox =  -1 - bulk(Na)\n",
    "print(f\"Vox = {Vox}\")"
   ]
  },
  {
   "cell_type": "markdown",
   "id": "2ea1250b",
   "metadata": {},
   "source": [
    "## Part D\n",
    "$V_g = V_{fb} + \\phi_s + V_{OX}$ \\\n",
    "$V_g - V_{fb} - V_{OX} = \\phi_s$ \\\n",
    "$.5 = V_{OX} + \\phi_s$ \\\n",
    "$.5 = \\frac{\\sqrt{q N_a 2 \\epsilon_s \\phi_s}}{C_{OX}} + \\phi_s$ \\\n",
    "$\\phi_s^2 + \\frac{q N_a 2 \\epsilon_s}{C_{OX}^2}\\phi_s - .5^2$\n"
   ]
  },
  {
   "cell_type": "code",
   "execution_count": 30,
   "id": "f3590df2",
   "metadata": {},
   "outputs": [
    {
     "name": "stdout",
     "output_type": "stream",
     "text": [
      "[-0.53235116  0.46961483]\n",
      "surf pot: 0.4696148340105238\n"
     ]
    }
   ],
   "source": [
    "import scipy.optimize as sci\n",
    "Cox = 4E-7\n",
    "Na = 3E16\n",
    "poly = [1, (q*Na*2*si_di)/(Cox**2), -.5**2]\n",
    "roots = np.roots(poly)\n",
    "print(roots)\n",
    "print(f\"surf pot: {roots[1]}\")\n"
   ]
  },
  {
   "cell_type": "markdown",
   "id": "7998e073",
   "metadata": {},
   "source": [
    "# Included file"
   ]
  },
  {
   "cell_type": "code",
   "execution_count": 31,
   "id": "bcce47ff",
   "metadata": {},
   "outputs": [],
   "source": [
    "#functions from functions.py used in this\n",
    "import numpy as np\n",
    "import matplotlib.pyplot as plt\n",
    "\n",
    "\n",
    "# common varables\n",
    "eV = 1.602E-19\n",
    "q = 1.602E-19\n",
    "k_J = 1.38E-23\n",
    "k_eV = k_J/eV\n",
    "m0 = 9.11E-31\n",
    "perm = 8.85E-14 # cm\n",
    "h_J = 6.63E-34\n",
    "h_eV = h_J/eV\n",
    "h_bar_J = 1.055E-34\n",
    "h_bar_eV = h_bar_J/eV\n",
    "c = 3E8\n",
    "thermal_V_at_300 = (k_J*300)/q\n",
    "\n",
    "# silicion\n",
    "si_mn = .26*m0\n",
    "si_mp = .39*m0\n",
    "si_Eg = 1.12\n",
    "si_ue = 1417\n",
    "si_uh = 471\n",
    "si_lattice_cosnt = 5.43\n",
    "si_e_af = 4.05\n",
    "\n",
    "# dieletrics\n",
    "si_di = 11.8*perm\n",
    "siO2_di = 3.9*perm\n",
    "# functions\n",
    "def effective_dos(m,T):\n",
    "    if m == si_mn and T == 300:\n",
    "        return 2.8E19\n",
    "    if m == si_mp and T == 300:\n",
    "        return 1.04E19\n",
    "    return 2*((2*np.pi*m*k_J*T)/(h_J**2))**(3/2)\n",
    "\n",
    "def ni(T=300,Eg = si_Eg):\n",
    "    if T == 300:\n",
    "        return 1E10\n",
    "    Nc = effective_dos(si_mn, T)\n",
    "    Nv = effective_dos(si_mp, T)\n",
    "    print(T)\n",
    "    return np.sqrt(Nc*Nv)*np.exp(-Eg/(2*k_eV*T))\n",
    "\n",
    "def dos(m, EtoEcorEv):\n",
    "    return (8*np.pi*m*np.sqrt(2*m*EtoEcorEv))/(h_eV**3)\n",
    "\n",
    "def fermi(EtoEf, T=300):\n",
    "    return 1/(1+np.exp(-EtoEf/(k_eV*T)))\n",
    "\n",
    "def bulk_E(Eg, Ef, Ev):\n",
    "    return (Eg/2 - (Ef-Ev))/q\n",
    " \n",
    "def bulk(Na, T=300):\n",
    "    return k_eV*T*np.log(Na/ni(T))\n",
    "\n",
    "def surf_pot(Na, T=300):\n",
    "    return (q*Na*Wdep(T, Na)**2)/(2*si_di)\n",
    "\n",
    "def surf_pot_t(Na, T=300):\n",
    "    return 2*bulk(Na, T)\n",
    "\n",
    "def min_carrier(V, c, T=300):\n",
    "    return c*np.exp(V/(k_eV*T))\n",
    "\n",
    "def ex_carrier(V, c, T=300):\n",
    "    min_car = min_carrier(V, T, c)\n",
    "    return min_car - c\n",
    "\n",
    "def bi_V(Na, Nd, T=300):\n",
    "    if Na == 0:\n",
    "        Na = ni(T)**2/Nd\n",
    "    if Nd == 0:\n",
    "        Nd = ni(T)**2/Na\n",
    "    return k_eV*T*np.log((Na*Nd)/ni(T)**2)\n",
    "\n",
    "def Wdep(T=300, Na=0, Nd=0):\n",
    "    if Na != 0 and Nd != 0:\n",
    "        return np.sqrt(((2*si_di*bi_V(Na, Nd, T))/(q))*(1/Na + 1/Nd))\n",
    "    if Na != 0 and Nd == 0:\n",
    "        return np.sqrt(((2*si_di*bi_V(Na, Nd, T))/(q*Na)))\n",
    "    if Nd != 0 and Nd == 0:\n",
    "        return np.sqrt(((2*si_di*bi_V(Na, Nd, T))/(q*Nd)))\n",
    "\n",
    "def find_Wdmax(Na, T=300):\n",
    "    return np.sqrt(((2*si_di*surf_pot_t(Na, T))/(q*Na)))\n",
    "\n",
    "def find_Vfb(Na=0, T=300, EmEf = None, e_af = si_e_af, N_type = True):\n",
    "    if EmEf == None and N_type:\n",
    "        # figure 5-5 adds them\n",
    "        EmEf = si_Eg/2 + bulk(Na, T)\n",
    "        return e_af - (e_af + (EmEf))\n",
    "    elif EmEf == None and not N_type:\n",
    "        # figure #5-6 subs them\n",
    "        EmEf = si_Eg/2 - bulk(Na, T)\n",
    "        return (e_af + (EmEf)) - e_af\n",
    "    else:\n",
    "        return e_af - (e_af + (EmEf))\n",
    "    \n",
    "\n",
    "def C_dep(A, T=300, Na=0, Nd=0):\n",
    "    return A*((si_di)/(Wdep(Na, Nd, T)))\n",
    "\n",
    "def cap(di, d):\n",
    "    return di/d\n",
    "\n",
    "def find_Vt(Na, l, T=300, N_type=True):\n",
    "    return find_Vfb(Na, T, N_type=N_type) + surf_pot_t(Na, T) + np.sqrt(2*q*Na*si_di*surf_pot_t(Na, T))/(cap(siO2_di,l))\n",
    "\n",
    "def find_Vox(Na, T=300, l=0, c=None):\n",
    "    if c == None:\n",
    "        c = cap(siO2_di,l)\n",
    "    return np.sqrt(q*Na*si_di*surf_pot_t(Na, T))/(c)\n",
    "\n",
    "def find_Vox_Q(Qs, co=None , l=0):\n",
    "    if co==None:\n",
    "        co = cap(siO2_di,l)\n",
    "    return Qs/co\n",
    "\n",
    "def find_Vg(Vfb, sur_pot, Vox):\n",
    "    return Vfb + sur_pot + Vox\n",
    "\n"
   ]
  }
 ],
 "metadata": {
  "kernelspec": {
   "display_name": "3.8.8",
   "language": "python",
   "name": "python3"
  },
  "language_info": {
   "codemirror_mode": {
    "name": "ipython",
    "version": 3
   },
   "file_extension": ".py",
   "mimetype": "text/x-python",
   "name": "python",
   "nbconvert_exporter": "python",
   "pygments_lexer": "ipython3",
   "version": "3.8.8"
  }
 },
 "nbformat": 4,
 "nbformat_minor": 5
}
